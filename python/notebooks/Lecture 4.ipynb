{
 "cells": [
  {
   "cell_type": "markdown",
   "id": "b63062d2-0fbd-4f91-82f6-65a28a099a74",
   "metadata": {},
   "source": [
    "# List [Список]  \n",
    "Списки в Python — це впорядкований змінний (mutable) набір об'єктів довільних типів\n",
    "```\n",
    "[ 1,  2,  3,  4] -> list\n",
    "| 0 | 1 | 2 | 3| -> index\n",
    "```"
   ]
  },
  {
   "cell_type": "code",
   "execution_count": 2,
   "id": "f5fc27dd-3c33-4cf8-ad2f-fa4a090fc436",
   "metadata": {},
   "outputs": [
    {
     "name": "stdout",
     "output_type": "stream",
     "text": [
      "[1, 2.3, 'abc', True, [1, 2]]\n"
     ]
    },
    {
     "data": {
      "text/plain": [
       "[1, 2.3, 'abc', True, [1, 2]]"
      ]
     },
     "execution_count": 2,
     "metadata": {},
     "output_type": "execute_result"
    }
   ],
   "source": [
    "# список\n",
    "lst = [1, 2.3, 'abc', True, [1, 2]]\n",
    "print(lst)\n",
    "lst"
   ]
  },
  {
   "cell_type": "code",
   "execution_count": 3,
   "id": "ab902ffb-9cce-4259-8bf8-7e184ce5fba3",
   "metadata": {},
   "outputs": [
    {
     "name": "stdout",
     "output_type": "stream",
     "text": [
      "<class 'list'>\n"
     ]
    },
    {
     "data": {
      "text/plain": [
       "list"
      ]
     },
     "execution_count": 3,
     "metadata": {},
     "output_type": "execute_result"
    }
   ],
   "source": [
    "# тип списку\n",
    "print(type(lst))\n",
    "type(lst)"
   ]
  },
  {
   "cell_type": "code",
   "execution_count": 4,
   "id": "9b136ac8-0ba7-4698-812a-56a2888f0be4",
   "metadata": {},
   "outputs": [
    {
     "data": {
      "text/plain": [
       "[]"
      ]
     },
     "execution_count": 4,
     "metadata": {},
     "output_type": "execute_result"
    }
   ],
   "source": [
    "# порожній список\n",
    "lst = []\n",
    "lst"
   ]
  },
  {
   "cell_type": "code",
   "execution_count": 5,
   "id": "c8996efb-b0c3-446d-96c2-c9f442eb8ae2",
   "metadata": {},
   "outputs": [
    {
     "name": "stdout",
     "output_type": "stream",
     "text": [
      "[]\n",
      "[0, 1, 2, 3, 4]\n",
      "['a', 'b', 'c']\n"
     ]
    }
   ],
   "source": [
    "# перетворення типу до списку (утворення списку з об'єктів, які ітеруються)\n",
    "print(list())\n",
    "print(list(range(5)))\n",
    "print(list('abc'))"
   ]
  },
  {
   "cell_type": "code",
   "execution_count": 6,
   "id": "936e5e20-ec14-4606-adf5-1acdc12041ad",
   "metadata": {},
   "outputs": [
    {
     "data": {
      "text/plain": [
       "['Чапля', 'Осінь', 'Жде', 'Завзято', 'Буде', 'Сани', 'Фарбувати']"
      ]
     },
     "execution_count": 6,
     "metadata": {},
     "output_type": "execute_result"
    }
   ],
   "source": [
    "'Чапля Осінь Жде Завзято Буде Сани Фарбувати'.split()"
   ]
  },
  {
   "cell_type": "code",
   "execution_count": 6,
   "id": "501bcbd2-b3a4-4b05-94fa-ad6a23d3ab4f",
   "metadata": {},
   "outputs": [
    {
     "name": "stdout",
     "output_type": "stream",
     "text": [
      "False\n",
      "True\n",
      "True\n",
      "text_10\n"
     ]
    }
   ],
   "source": [
    "# перетворення списку до інших типів\n",
    "print(bool([]))\n",
    "print(bool([1]))\n",
    "print(bool([[]]))\n",
    "print('_'.join(['text', str(10)]))"
   ]
  },
  {
   "cell_type": "code",
   "execution_count": 8,
   "id": "68e0f4f0-5ab5-4dc3-a7dd-27262c75ce5c",
   "metadata": {},
   "outputs": [
    {
     "name": "stdout",
     "output_type": "stream",
     "text": [
      "[1, 3, 5, 7, 9]\n",
      "1 3 5 7 9\n"
     ]
    }
   ],
   "source": [
    "# як швидко надрукувати елементи списку\n",
    "lst = list(range(1, 10, 2))\n",
    "print(lst)\n",
    "print(*lst)"
   ]
  },
  {
   "cell_type": "code",
   "execution_count": 9,
   "id": "26de9dfe-fab4-49b5-86b9-6a7dfa9fcf1e",
   "metadata": {},
   "outputs": [
    {
     "name": "stdout",
     "output_type": "stream",
     "text": [
      "945\n"
     ]
    }
   ],
   "source": [
    "# обхід елементів списку\n",
    "prod = 1\n",
    "for k in lst:\n",
    "    prod *= k\n",
    "print(prod)"
   ]
  },
  {
   "cell_type": "markdown",
   "id": "20270374-e9ad-48d8-9985-84717671d7c4",
   "metadata": {
    "jupyter": {
     "source_hidden": true
    }
   },
   "source": [
    "**Завдання 1**\n",
    "\n",
    "Перетворити число на список цифр. Навпаки, перетворити список цифр на число.\n",
    "\n",
    "12345432 -> ['1', '2', '3', '4', '5', '4', '3', '2'] -> 12345432"
   ]
  },
  {
   "cell_type": "code",
   "execution_count": null,
   "id": "9ebf4252-67f1-41d3-96e0-43e3fa2e4fab",
   "metadata": {},
   "outputs": [],
   "source": []
  },
  {
   "cell_type": "markdown",
   "id": "db02f6a8-abd0-4baa-9f11-94cc9bc1d96f",
   "metadata": {},
   "source": [
    "**Завдання 2**\n",
    "\n",
    "Напишіть програму для знаходження другого найменшого елемента у цілочисельного списку.\n",
    "\n",
    "[-8, 1, -4, 10, -7, 12, -3, 5] -> -7"
   ]
  },
  {
   "cell_type": "code",
   "execution_count": null,
   "id": "dcc45137-d42f-4947-ae0d-dab2406dd3f6",
   "metadata": {},
   "outputs": [],
   "source": []
  },
  {
   "cell_type": "markdown",
   "id": "3620835d-3979-4f7b-89d2-8e00eaa57bf1",
   "metadata": {},
   "source": [
    "### Звернення до элементів списку, зрізи (slices)  \n",
    "```\n",
    "[ 1,  2,  3,  4] -> list\n",
    "| 0 | 1 | 2 | 3| -> index\n",
    "|-4 |-3 |-2 |-1| -> negative index\n",
    "```"
   ]
  },
  {
   "cell_type": "code",
   "execution_count": 10,
   "id": "c1afa41c-3bd6-4be0-a8e7-0914cb3d140e",
   "metadata": {},
   "outputs": [
    {
     "name": "stdout",
     "output_type": "stream",
     "text": [
      "11\n",
      "11\n"
     ]
    }
   ],
   "source": [
    "# звернення до елементів списку\n",
    "lst = [1, 5, 8, 11, 100, 12]\n",
    "print(lst[3])\n",
    "print(lst[-3])"
   ]
  },
  {
   "cell_type": "code",
   "execution_count": 11,
   "id": "0c73417f-6829-4194-bb02-e97ca7b2f8b6",
   "metadata": {},
   "outputs": [
    {
     "name": "stdout",
     "output_type": "stream",
     "text": [
      "[5, 8, 11, 100, 12]\n",
      "[1, 5, 8]\n",
      "[5, 8]\n",
      "[5]\n",
      "[]\n",
      "[5, 11, 12]\n",
      "[12, 100, 11, 8, 5, 1]\n",
      "[12, 11]\n",
      "[1, 5, 8, 11, 100, 12]\n",
      "[1, 5, 8, 11, 100, 12]\n"
     ]
    }
   ],
   "source": [
    "# зрізи - формуються аналогічно рядкам\n",
    "print(lst[1:])\n",
    "print(lst[:3])\n",
    "print(lst[1:3])\n",
    "print(lst[1:2])\n",
    "print(lst[1:1])\n",
    "print(lst[1:6:2])\n",
    "print(lst[::-1])\n",
    "print(lst[:1:-2])\n",
    "print(lst[:])\n",
    "print(lst[::])"
   ]
  },
  {
   "cell_type": "code",
   "execution_count": 12,
   "id": "c98ccc26-538d-49c7-afc8-1c008f1e262b",
   "metadata": {},
   "outputs": [
    {
     "data": {
      "text/plain": [
       "[4, 5, 8, 11, 100, 12]"
      ]
     },
     "execution_count": 12,
     "metadata": {},
     "output_type": "execute_result"
    }
   ],
   "source": [
    "# зміна елементів списку\n",
    "lst[0] = 4\n",
    "lst"
   ]
  },
  {
   "cell_type": "code",
   "execution_count": 13,
   "id": "1d431d2c-7b1e-4175-a97a-9c33af03018f",
   "metadata": {},
   "outputs": [
    {
     "data": {
      "text/plain": [
       "[4, 5, 8, 11, 100, 99]"
      ]
     },
     "execution_count": 13,
     "metadata": {},
     "output_type": "execute_result"
    }
   ],
   "source": [
    "lst[-1] = 99\n",
    "lst"
   ]
  },
  {
   "cell_type": "code",
   "execution_count": 14,
   "id": "00cb995a-8271-4495-a3ef-033462375699",
   "metadata": {},
   "outputs": [
    {
     "data": {
      "text/plain": [
       "[4, 5, -3, -5, 100, 99]"
      ]
     },
     "execution_count": 14,
     "metadata": {},
     "output_type": "execute_result"
    }
   ],
   "source": [
    "lst[2:4] = [-3, -5]\n",
    "lst"
   ]
  },
  {
   "cell_type": "code",
   "execution_count": 15,
   "id": "7dbe68cf-1f17-4ba8-925f-6c806ac443e7",
   "metadata": {},
   "outputs": [
    {
     "data": {
      "text/plain": [
       "[4, 5, -3, -4, -5, 100, 99]"
      ]
     },
     "execution_count": 15,
     "metadata": {},
     "output_type": "execute_result"
    }
   ],
   "source": [
    "lst[2:4] = [-3, -4, -5]\n",
    "lst"
   ]
  },
  {
   "cell_type": "code",
   "execution_count": 16,
   "id": "f5170784-f52a-4a25-a91a-885e0a7811c6",
   "metadata": {},
   "outputs": [
    {
     "data": {
      "text/plain": [
       "[4, 5, 100, 99]"
      ]
     },
     "execution_count": 16,
     "metadata": {},
     "output_type": "execute_result"
    }
   ],
   "source": [
    "lst[2:5] = []\n",
    "lst"
   ]
  },
  {
   "cell_type": "code",
   "execution_count": 19,
   "id": "ea783666-a997-455b-a3e2-a359c043d99f",
   "metadata": {},
   "outputs": [
    {
     "data": {
      "text/plain": [
       "[1, 5, 2, 99]"
      ]
     },
     "execution_count": 19,
     "metadata": {},
     "output_type": "execute_result"
    }
   ],
   "source": [
    "lst[::2] = [1, 2]\n",
    "lst"
   ]
  },
  {
   "cell_type": "markdown",
   "id": "4d0b2318-6c50-44c9-af0a-cbbe8428c770",
   "metadata": {},
   "source": [
    "**Завдання 1**\n",
    "\n",
    "Отримати частину рядка URL, що позначає назву ресурсу.\n",
    "\n",
    "https://www.namesite.com/folder/index.htm -> index.htmll"
   ]
  },
  {
   "cell_type": "code",
   "execution_count": 23,
   "id": "832bbdef-dddf-497c-b324-6afc67e1d647",
   "metadata": {},
   "outputs": [
    {
     "data": {
      "text/plain": [
       "'index.htm'"
      ]
     },
     "execution_count": 23,
     "metadata": {},
     "output_type": "execute_result"
    }
   ],
   "source": [
    "s = 'https://www.namesite.com/folder/index.htm'\n",
    "s.split('/')[-1]"
   ]
  },
  {
   "cell_type": "markdown",
   "id": "799b4294-e3b5-416d-bf89-0085816a17cc",
   "metadata": {},
   "source": [
    "**Завдання 2**\n",
    "\n",
    "Вивести на екран елементи, які стоять на парних місцях, і окремо елементи, які стоять на непарних місцях.\n",
    "\n",
    "[0, 1, 2, 3, 4, 5, 6, 7, 8, 9, 10 -> [0, 2, 4, 6, 8, 10] та [1, 3, 5, 7, 9]\n"
   ]
  },
  {
   "cell_type": "code",
   "execution_count": 25,
   "id": "82832112-cd7b-48c4-8d44-50db893de885",
   "metadata": {},
   "outputs": [
    {
     "name": "stdout",
     "output_type": "stream",
     "text": [
      "[0, 2, 4, 6, 8, 10]\n",
      "[1, 3, 5, 7, 9]\n"
     ]
    }
   ],
   "source": [
    "a = [0, 1, 2, 3, 4, 5, 6, 7, 8, 9, 10]\n",
    "print(a[::2])\n",
    "print(a[1::2])"
   ]
  },
  {
   "cell_type": "markdown",
   "id": "6140e781-953c-4e50-8653-4c5ef701ac81",
   "metadata": {},
   "source": [
    "**Завдання 3**\n",
    "\n",
    "Поміняти місцями елементи з індексами 2 і 5 та 1 і 6.\n",
    "\n",
    "[0, 1, 2, 3, 4, 5, 6, 7, 8, 9] -> [0, 6, 5, 3, 4, 2, 1, 7, 8, 9]"
   ]
  },
  {
   "cell_type": "code",
   "execution_count": 30,
   "id": "1ade9e52-10df-4134-818b-e1216dba1163",
   "metadata": {},
   "outputs": [
    {
     "data": {
      "text/plain": [
       "[0, 6, 5, 3, 4, 2, 1, 7, 8, 9]"
      ]
     },
     "execution_count": 30,
     "metadata": {},
     "output_type": "execute_result"
    }
   ],
   "source": [
    "a = [0, 1, 2, 3, 4, 5, 6, 7, 8, 9]\n",
    "t = a[2]\n",
    "a[2] = a[5]\n",
    "a[5] = t\n",
    "a[1], a[6] = a[6], a[1]\n",
    "a"
   ]
  },
  {
   "cell_type": "markdown",
   "id": "8f729ed7-4457-4525-9d96-2f46a154a8bd",
   "metadata": {},
   "source": [
    "**Завдання 4**\n",
    "\n",
    "Є масив з парної кількості елементів. Поміняти місцями його половини.\n",
    "\n",
    "[0, 1, 2, 3, 4, 5, 6, 7, 8, 9] -> [5, 6, 7, 8, 9, 0, 1, 2, 3, 4]"
   ]
  },
  {
   "cell_type": "code",
   "execution_count": 35,
   "id": "d4a58c6d-f1f2-44cc-8a2e-908c503c9164",
   "metadata": {},
   "outputs": [
    {
     "data": {
      "text/plain": [
       "[6, 7, 8, 9, 10, 6, 0, 1, 2, 3, 4, 5]"
      ]
     },
     "execution_count": 35,
     "metadata": {},
     "output_type": "execute_result"
    }
   ],
   "source": [
    "a = [0, 1, 2, 3, 4, 5, 6, 7, 8, 9, 10]\n",
    "k = len(a) // 2 + 1\n",
    "a[:k], a[k:] = a[k:], a[:k]\n",
    "a"
   ]
  },
  {
   "cell_type": "markdown",
   "id": "99d4ee8d-7f3f-42da-9219-7fe666657c93",
   "metadata": {},
   "source": [
    "**Завдання 5**\n",
    "  \n",
    "Циклічно пересуньте елементи списку на 3 значення вперед.\n",
    "\n",
    "[0, 1, 2, 3, 4, 5, 6, 7, 8, 9] -> [3, 4, 5, 6, 7, 8, 9, 0, 1, 2]"
   ]
  },
  {
   "cell_type": "code",
   "execution_count": 36,
   "id": "9e8b9e3c-cc8a-4835-8cb8-21017b62ffb2",
   "metadata": {},
   "outputs": [
    {
     "data": {
      "text/plain": [
       "[3, 4, 5, 6, 7, 8, 9, 0, 1, 2]"
      ]
     },
     "execution_count": 36,
     "metadata": {},
     "output_type": "execute_result"
    }
   ],
   "source": [
    "a = [0, 1, 2, 3, 4, 5, 6, 7, 8, 9]\n",
    "a = a[3:] + a[:3]\n",
    "a"
   ]
  },
  {
   "cell_type": "markdown",
   "id": "30b87097-788f-43d4-964a-3c0d22b50424",
   "metadata": {},
   "source": [
    "# Методи списків\n",
    "\n",
    "До списків можна застосовувати основні вбудовані функції, такі як len(), reversed(), sorted(), sum(), max(), min().\n",
    "````\n",
    "list + L - Розширює список list, додаючи до кінця всі елементи списку L\n",
    "list * n, n * list - Утворює список, як n копій списку list\n",
    "````\n",
    "````\n",
    "x in s          True якщо елемент x знаходиться у списку s  \n",
    "x not in s      True якщо елемент x не знаходиться у списку s \n",
    "````\n",
    "````\n",
    "list.append(x) Додає елемент до кінця списку\n",
    "list.extend(L) Розширює список list, додаючи до кінця всі елементи списку L\n",
    "list.insert(i, x) Вставляє на i-ий елемент списку значення x\n",
    "````\n",
    "````\n",
    "list.index(x, [start [, end]]) Повертає положення першого елемента зі значенням x (при цьому пошук ведеться від start до end)\n",
    "list.count(x) Повертає кількість елементів зі значенням x\n",
    "list.remove(x) Видаляє перший елемент у списку, що має значення x. ValueError, якщо такого елемента не існує\n",
    "list.pop([x]) Видаляє перший елемент x і повертає його. Якщо індекс не вказано, видаляється останній елемент\n",
    "list.clear() Очищає список\n",
    "````\n",
    "````\n",
    "list.sort([key=функція]) Сортує список на основі функції\n",
    "list.reverse() Розгортає список\n",
    "````\n",
    "````\n",
    "list.copy() Поверхнева копія списку\n",
    "````"
   ]
  },
  {
   "cell_type": "code",
   "execution_count": 1,
   "id": "cf4c96c7-f015-48fa-ab70-28de727cec96",
   "metadata": {},
   "outputs": [
    {
     "data": {
      "text/plain": [
       "[1, 2, 3, 4, 5, 6]"
      ]
     },
     "execution_count": 1,
     "metadata": {},
     "output_type": "execute_result"
    }
   ],
   "source": [
    "[1, 2, 3] + [4, 5, 6]"
   ]
  },
  {
   "cell_type": "code",
   "execution_count": 2,
   "id": "5e3941cc-dd85-4f87-9a6c-4e9f647fe9f4",
   "metadata": {},
   "outputs": [
    {
     "data": {
      "text/plain": [
       "[1, 2, 3, 1, 2, 3, 1, 2, 3]"
      ]
     },
     "execution_count": 2,
     "metadata": {},
     "output_type": "execute_result"
    }
   ],
   "source": [
    "[1, 2, 3] * 3"
   ]
  },
  {
   "cell_type": "code",
   "execution_count": 3,
   "id": "8e7c4d88-63bc-4335-a4ae-77e6282b363c",
   "metadata": {},
   "outputs": [
    {
     "data": {
      "text/plain": [
       "[1, 1, 1, 1, 1, 1, 1]"
      ]
     },
     "execution_count": 3,
     "metadata": {},
     "output_type": "execute_result"
    }
   ],
   "source": [
    "7 * [1]"
   ]
  },
  {
   "cell_type": "code",
   "execution_count": 4,
   "id": "3342e662-9f94-4e75-b743-1982a8953aea",
   "metadata": {},
   "outputs": [
    {
     "name": "stdout",
     "output_type": "stream",
     "text": [
      "[1, 5, 6, -8, 100]\n",
      "Довжина списку - кількість елементів 5\n",
      "Максимальний елемент списку 100\n",
      "Мінімальний елемент списку -8\n",
      "Сума елементів списку 104\n",
      "Сортування списку [-8, 1, 5, 6, 100]\n",
      "Обертання списку [100, -8, 6, 5, 1]\n"
     ]
    }
   ],
   "source": [
    "lst = [1, 5, 6, -8, 100]\n",
    "print(lst)\n",
    "print('Довжина списку - кількість елементів', len(lst))\n",
    "print('Максимальний елемент списку', max(lst))\n",
    "print('Мінімальний елемент списку', min(lst))\n",
    "print('Сума елементів списку', sum(lst))\n",
    "print('Сортування списку', sorted(lst))\n",
    "print('Обертання списку', list(reversed(lst)))"
   ]
  },
  {
   "cell_type": "code",
   "execution_count": 5,
   "id": "52c01c27-dce2-4aea-8381-b2824f143343",
   "metadata": {},
   "outputs": [
    {
     "name": "stdout",
     "output_type": "stream",
     "text": [
      "[1, 5, 6, -8, 100, 2]\n",
      "[1, 5, 6, -8, 100, 2, 3]\n"
     ]
    },
    {
     "ename": "AttributeError",
     "evalue": "'NoneType' object has no attribute 'append'",
     "output_type": "error",
     "traceback": [
      "\u001b[1;31m---------------------------------------------------------------------------\u001b[0m",
      "\u001b[1;31mAttributeError\u001b[0m                            Traceback (most recent call last)",
      "Cell \u001b[1;32mIn[5], line 7\u001b[0m\n\u001b[0;32m      5\u001b[0m lst\u001b[38;5;241m.\u001b[39mappend(\u001b[38;5;241m3\u001b[39m)\n\u001b[0;32m      6\u001b[0m \u001b[38;5;28mprint\u001b[39m(lst)\n\u001b[1;32m----> 7\u001b[0m \u001b[43mlst\u001b[49m\u001b[38;5;241;43m.\u001b[39;49m\u001b[43mappend\u001b[49m\u001b[43m(\u001b[49m\u001b[38;5;241;43m4\u001b[39;49m\u001b[43m)\u001b[49m\u001b[38;5;241;43m.\u001b[39;49m\u001b[43mappend\u001b[49m(\u001b[38;5;241m5\u001b[39m)\n\u001b[0;32m      8\u001b[0m \u001b[38;5;28mprint\u001b[39m(lst)\n",
      "\u001b[1;31mAttributeError\u001b[0m: 'NoneType' object has no attribute 'append'"
     ]
    }
   ],
   "source": [
    "# додавання одного! елемента в кінець списку\n",
    "lst = [1, 5, 6, -8, 100]\n",
    "lst.append(2)\n",
    "print(lst)\n",
    "lst.append(3)\n",
    "print(lst)\n",
    "lst.append(4).append(5)\n",
    "print(lst)"
   ]
  },
  {
   "cell_type": "code",
   "execution_count": 6,
   "id": "41782a90-fc32-483b-9f98-d89d6a4de294",
   "metadata": {},
   "outputs": [
    {
     "name": "stdout",
     "output_type": "stream",
     "text": [
      "[1, 5, 6, -8, 100, 2, 3, 4, 10, 11, 12]\n"
     ]
    }
   ],
   "source": [
    "# додавання елементів до кінця списку\n",
    "lst.extend([10, 11, 12])\n",
    "print(lst)"
   ]
  },
  {
   "cell_type": "code",
   "execution_count": 20,
   "id": "4ae75576-1559-4fd9-b013-c7b3e4f01343",
   "metadata": {},
   "outputs": [
    {
     "name": "stdout",
     "output_type": "stream",
     "text": [
      "[1, 5, 6, -8, 100, 2, 3, 10, 11, 12, ['20', '21', '22']]\n",
      "[1, 5, 6, -8, 100, 2, 3, 10, 11, 12, ['20', '21', '22'], '1', '0', '0', '0']\n"
     ]
    }
   ],
   "source": [
    "# особливості\n",
    "lst.append(['20', '21', '22'])\n",
    "print(lst)\n",
    "lst.extend('1000')\n",
    "print(lst)"
   ]
  },
  {
   "cell_type": "code",
   "execution_count": 7,
   "id": "2a0a3416-30ac-4cf8-a329-26eaeffd9140",
   "metadata": {},
   "outputs": [
    {
     "name": "stdout",
     "output_type": "stream",
     "text": [
      "[1, 5, 6, 123, -8, 100]\n",
      "[-123, 1, 5, 6, 123, -8, 100]\n"
     ]
    }
   ],
   "source": [
    "lst = [1, 5, 6, -8, 100]\n",
    "# додавання елементів в конкретне місце списку\n",
    "lst.insert(3, 123)\n",
    "print(lst)\n",
    "lst.insert(0, -123)\n",
    "print(lst)"
   ]
  },
  {
   "cell_type": "code",
   "execution_count": 8,
   "id": "02d6a82c-b563-4694-b45c-b3a6834c4b12",
   "metadata": {},
   "outputs": [
    {
     "name": "stdout",
     "output_type": "stream",
     "text": [
      "3\n",
      "5\n",
      "2\n",
      "True\n",
      "True\n"
     ]
    }
   ],
   "source": [
    "# якщо елементів із значенням, яке шукаємо декілька, то index() поверне індекс першого елемента\n",
    "lst = [1, 5, 8, 12, 100, 12]\n",
    "print(lst.index(12))\n",
    "print(lst.index(12, 4))\n",
    "print(lst.count(12))\n",
    "print(12 in lst)\n",
    "print(13 not in lst)"
   ]
  },
  {
   "cell_type": "code",
   "execution_count": 9,
   "id": "f784387c-5e10-47c7-9b77-eb42dce18f7b",
   "metadata": {},
   "outputs": [
    {
     "ename": "ValueError",
     "evalue": "13 is not in list",
     "output_type": "error",
     "traceback": [
      "\u001b[1;31m---------------------------------------------------------------------------\u001b[0m",
      "\u001b[1;31mValueError\u001b[0m                                Traceback (most recent call last)",
      "Cell \u001b[1;32mIn[9], line 1\u001b[0m\n\u001b[1;32m----> 1\u001b[0m \u001b[43mlst\u001b[49m\u001b[38;5;241;43m.\u001b[39;49m\u001b[43mindex\u001b[49m\u001b[43m(\u001b[49m\u001b[38;5;241;43m13\u001b[39;49m\u001b[43m)\u001b[49m\n",
      "\u001b[1;31mValueError\u001b[0m: 13 is not in list"
     ]
    }
   ],
   "source": [
    "lst.index(13)"
   ]
  },
  {
   "cell_type": "code",
   "execution_count": 10,
   "id": "36e54ac9-8a87-4f13-8ae7-0759941a5188",
   "metadata": {},
   "outputs": [
    {
     "name": "stdout",
     "output_type": "stream",
     "text": [
      "original list: [1, 5, 6, -8, 100, 1]\n",
      "reverced list: [1, 100, -8, 6, 5, 1]\n",
      "sorted list: [-8, 1, 1, 5, 6, 100]\n",
      "reverce sorted list: [100, 6, 5, 1, 1, -8]\n"
     ]
    }
   ],
   "source": [
    "lst = [1, 5, 6, -8, 100, 1]\n",
    "print('original list:', lst)\n",
    "lst.reverse()\n",
    "print('reverced list:', lst)\n",
    "lst.sort()\n",
    "print('sorted list:', lst)\n",
    "lst.sort(reverse = True)\n",
    "print('reverce sorted list:', lst)"
   ]
  },
  {
   "cell_type": "code",
   "execution_count": 11,
   "id": "c34157d5-d671-4519-bcb5-839c619a5011",
   "metadata": {},
   "outputs": [
    {
     "data": {
      "text/plain": [
       "[1, 1.2]"
      ]
     },
     "execution_count": 11,
     "metadata": {},
     "output_type": "execute_result"
    }
   ],
   "source": [
    "s = [1, 1.2]\n",
    "s.sort()\n",
    "s"
   ]
  },
  {
   "cell_type": "code",
   "execution_count": 12,
   "id": "61740d0c-5053-4202-b41c-bb545ce0bdd0",
   "metadata": {},
   "outputs": [
    {
     "name": "stdout",
     "output_type": "stream",
     "text": [
      "['Ccc', 'D', 'aAa', 'bb', 'cCc']\n",
      "['aAa', 'bb', 'Ccc', 'cCc', 'D']\n"
     ]
    }
   ],
   "source": [
    "# Сортування за допомогою функції key\n",
    "lst = ['Ccc','cCc', 'aAa', 'D', 'bb']\n",
    "print(sorted(lst))\n",
    "print(sorted(lst, key=str.lower))"
   ]
  },
  {
   "cell_type": "code",
   "execution_count": 15,
   "id": "93b67a1a-39a0-4ecc-a535-22264be38840",
   "metadata": {},
   "outputs": [
    {
     "data": {
      "text/plain": [
       "[0.5, 1, 10, 2, 20, 'A', 'a']"
      ]
     },
     "execution_count": 15,
     "metadata": {},
     "output_type": "execute_result"
    }
   ],
   "source": [
    "sorted([1, 10, 2, 20, 0.5, 'a', 'A'], key=str)"
   ]
  },
  {
   "cell_type": "code",
   "execution_count": 16,
   "id": "8e41efb7-4ddf-464e-b4ea-6e6635c33c79",
   "metadata": {},
   "outputs": [
    {
     "name": "stdout",
     "output_type": "stream",
     "text": [
      "[1, 5, 6, 1, 200, 202, 203, 201, 204]\n",
      "204 [1, 5, 6, 1, 200, 202, 203, 201]\n",
      "202 [1, 5, 6, 1, 200, 203, 201]\n"
     ]
    }
   ],
   "source": [
    "# видалення елементів\n",
    "lst = [1, 5, 6, 1, 200, 201, 202, 203, 201, 204]\n",
    "\n",
    "lst.remove(201) # видаляє перше входження елемента у списку\n",
    "print(lst)\n",
    "\n",
    "x = lst.pop() # видаляє перший елемент з кінця\n",
    "print(x, lst)\n",
    "\n",
    "x = lst.pop(5) # видаляє елемент у вказаному індексі та повертає віддалений елемент\n",
    "print(x, lst)"
   ]
  },
  {
   "cell_type": "code",
   "execution_count": 17,
   "id": "ecdc1569-da36-4f8e-b632-d3f32d94c156",
   "metadata": {},
   "outputs": [
    {
     "name": "stdout",
     "output_type": "stream",
     "text": [
      "[]\n"
     ]
    }
   ],
   "source": [
    "lst.clear()\n",
    "print(lst)"
   ]
  },
  {
   "cell_type": "markdown",
   "id": "4b76a6f5-77f4-4055-92e4-e1d511e22817",
   "metadata": {},
   "source": [
    "**Завдання 1**\n",
    "\n",
    "10 суддів виставили оцінку спортсмену. Фінальна оцінка визначається за правилом - відкинути мінімальне і максимальне значення (якщо їх декілька, то відкинути лише одне), а для решти оцінок знайти середнє значення.\n",
    "\n",
    "Список [6.0, 5.8, 5.5, 5.7, 5.9, 5.8, 6.0, 5.7, 5.9, 5.7]"
   ]
  },
  {
   "cell_type": "code",
   "execution_count": null,
   "id": "29748033-d98b-4c48-958f-39c705d01157",
   "metadata": {},
   "outputs": [],
   "source": []
  },
  {
   "cell_type": "markdown",
   "id": "66dad0d4-f088-40bc-9242-7f22305e73ab",
   "metadata": {},
   "source": [
    "**Завдання 2**\n",
    "\n",
    "Задано список чисел. Знайти найбільший елемент списку, скільки разів він зустрічається в списку, на якій позиції він зустрічається перший раз.\n",
    "\n",
    "Список \n",
    "[1, 3, 5, 2, 4, 5, 1, 5, 3, 3, 2, 2, 1, 1, 5]"
   ]
  },
  {
   "cell_type": "code",
   "execution_count": null,
   "id": "4030ea70-5175-4c64-b2c4-80d5e235a41e",
   "metadata": {},
   "outputs": [],
   "source": []
  },
  {
   "cell_type": "code",
   "execution_count": null,
   "id": "8f45aa0f-e059-4ac9-96c1-2266301e59a3",
   "metadata": {},
   "outputs": [],
   "source": []
  },
  {
   "cell_type": "markdown",
   "id": "8fd558cf-7e5c-4f41-9ace-966f5c5686da",
   "metadata": {},
   "source": [
    "**Завдання 3**\n",
    "\n",
    "Рідкісні імена малюків\n",
    "\n",
    "Дівчатка: Агата, Агнеса, Аглая, Алана, Адель, Амалія, Аміра, Анісія, Афіна, Беатриса, Джесіка, Дорофея, Емілі, Елізабет, Елеонора, Жасмін, Євангеліна, Єва-Марія, Ізабела, Ілана, Кароліна, Квітослава, Лаура, Лея, Лоліта, Лукія, Маріам, Маліка, Міра, Міріам, Мішел,, Меліса, Міла, Мілена, Ніколь, Ніла-Естер, Олівія, Раміра, Фаїна, Хафса, Ясміна\n",
    "\n",
    "Хлопчики: Азарій, Алан, Амір, Арбі, Арелан, Арон, Влас, Даміан, Дамір, Даміан, Дарій, Деніз, Добромір, Домінік, Драгомир, Еней, Ернест, Еммануїл, Ждан, Ілай, Іса,  Йонатан, Леонард, Лук҆іан, Маверік, Мар҆ян, Монік, Миролюб, Мирон, Натан, Нестор, Ніколас, Остап, Платон, Рувим, Савва, Стефан, Тадей.\n",
    "\n",
    "Відсортуйте всі рідкісні імена малюків у алфавітному порядку."
   ]
  },
  {
   "cell_type": "code",
   "execution_count": null,
   "id": "43321294-ee36-4d8a-a273-739148437c1f",
   "metadata": {},
   "outputs": [],
   "source": []
  },
  {
   "cell_type": "markdown",
   "id": "cb95aa31-7659-4265-80a8-9ef48aea156d",
   "metadata": {},
   "source": [
    "# Вкладені списки"
   ]
  },
  {
   "cell_type": "code",
   "execution_count": 18,
   "id": "0cc7f097-75db-4202-a9bf-a653f0987499",
   "metadata": {},
   "outputs": [
    {
     "name": "stdout",
     "output_type": "stream",
     "text": [
      "bar\n"
     ]
    }
   ],
   "source": [
    "# Як отримати 'bar' зі списку\n",
    "x = [22, [3.14, 79, [48, 'foo', 2.416]], 'bar']\n",
    "print(x[-1])"
   ]
  },
  {
   "cell_type": "code",
   "execution_count": 28,
   "id": "6944d939-c639-43d1-ae23-68dbb24f33c1",
   "metadata": {},
   "outputs": [],
   "source": [
    "# Як отримати 'foo' зі списку\n",
    "x = [22, [3.14, 79, [48, 'foo', 2.416]], 'bar']"
   ]
  },
  {
   "cell_type": "code",
   "execution_count": 29,
   "id": "c5c42490-54b0-481f-a8e8-ce7513027f84",
   "metadata": {},
   "outputs": [
    {
     "data": {
      "text/plain": [
       "[3.14, 79, [48, 'foo', 2.416]]"
      ]
     },
     "execution_count": 29,
     "metadata": {},
     "output_type": "execute_result"
    }
   ],
   "source": [
    "x[1]"
   ]
  },
  {
   "cell_type": "code",
   "execution_count": 30,
   "id": "cd79c5a5-fcc3-4a98-bea1-26c4535ecd12",
   "metadata": {},
   "outputs": [
    {
     "data": {
      "text/plain": [
       "[48, 'foo', 2.416]"
      ]
     },
     "execution_count": 30,
     "metadata": {},
     "output_type": "execute_result"
    }
   ],
   "source": [
    "x[1][2]"
   ]
  },
  {
   "cell_type": "code",
   "execution_count": 31,
   "id": "c29f4a83-8a24-4919-8701-deb8b153280a",
   "metadata": {},
   "outputs": [
    {
     "data": {
      "text/plain": [
       "'foo'"
      ]
     },
     "execution_count": 31,
     "metadata": {},
     "output_type": "execute_result"
    }
   ],
   "source": [
    "x[1][2][1]"
   ]
  },
  {
   "cell_type": "markdown",
   "id": "8e1f9317-2df3-4f69-8da2-c4cea4f64677",
   "metadata": {},
   "source": [
    "**Завдання 1**\n",
    "\n",
    "Є масив чисельності населення Херсона\n",
    "\n",
    "[[1840, 19_577], [1897, 59_076], [1926, 57_376], [1939, 96_987], [1959, 157_995], [1970, 260_687], [1979, 318_908], [1989, 355_379], [2001, 328_360], [2008, 308_837], [2014, 297_593], [2022, 279_131]]\n",
    "\n",
    "Знайти роки, в яких відсоток зміни кількості населення був від'ємним."
   ]
  },
  {
   "cell_type": "code",
   "execution_count": 19,
   "id": "6f7ee909-73a9-4db2-b59d-b6e060af8dee",
   "metadata": {},
   "outputs": [
    {
     "name": "stdout",
     "output_type": "stream",
     "text": [
      "1926 -0.028776491299343232\n",
      "2001 -0.07602869049662475\n",
      "2008 -0.05945608478499209\n",
      "2014 -0.0364075547942766\n",
      "2022 -0.062037749543840115\n"
     ]
    }
   ],
   "source": [
    "lst = [[1840, 19_577], [1897, 59_076], [1926, 57_376], [1939, 96_987], [1959, 157_995], [1970, 260_687], [1979, 318_908], [1989, 355_379], [2001, 328_360], [2008, 308_837], [2014, 297_593], [2022, 279_131]]\n",
    "for idx in range(1, len(lst)):\n",
    "    popul_prev = lst[idx-1][1]\n",
    "    popul_cur = lst[idx][1]\n",
    "    rate = popul_cur/popul_prev - 1 if popul_prev > 0 else 0\n",
    "    if rate < 0:\n",
    "        print(lst[idx][0], rate)"
   ]
  },
  {
   "cell_type": "markdown",
   "id": "d0a6febf-4814-4da6-acff-2973f968fb83",
   "metadata": {},
   "source": [
    "**Завдання 2**\n",
    "\n",
    "Утворіть нульову квадратну матрицю розміру 6 на 6. Поставте 1 на головній діагоналі. Поставте -1 на бічній діагоналі."
   ]
  },
  {
   "cell_type": "code",
   "execution_count": null,
   "id": "2029f7e1-ce12-4434-9058-b14b3046ca2a",
   "metadata": {},
   "outputs": [],
   "source": []
  },
  {
   "cell_type": "markdown",
   "id": "76a528cc-1733-4fdc-9e90-d86ae80b8d8f",
   "metadata": {},
   "source": [
    "# Порівняння списків"
   ]
  },
  {
   "cell_type": "code",
   "execution_count": 20,
   "id": "f11145e0-dac2-4d55-b4e9-febe86752c1c",
   "metadata": {},
   "outputs": [
    {
     "name": "stdout",
     "output_type": "stream",
     "text": [
      "True\n",
      "True\n"
     ]
    }
   ],
   "source": [
    "l1 = [1, 2, 3]\n",
    "l2 = [1, 2, 3]\n",
    "l3 = [True, 2.0, 3]\n",
    "print(l1 == l2)\n",
    "print(l1 == l3)"
   ]
  },
  {
   "cell_type": "code",
   "execution_count": 21,
   "id": "24f5d013-2345-48af-9f03-08768145f0b6",
   "metadata": {},
   "outputs": [
    {
     "name": "stdout",
     "output_type": "stream",
     "text": [
      "True\n",
      "True\n",
      "True\n",
      "True\n"
     ]
    }
   ],
   "source": [
    "l1 = [1, 2, 3]\n",
    "l2 = [1, 2, 4]\n",
    "l3 = [1, 3, 1]\n",
    "l4 = [2, 0, 1]\n",
    "print(l1 < l2)\n",
    "print(l1 <= l2)\n",
    "print(l1 <= l3)\n",
    "print(l1 < l4)"
   ]
  },
  {
   "cell_type": "code",
   "execution_count": 25,
   "id": "b7ff6757-f619-43a6-a815-87deb6a4f599",
   "metadata": {},
   "outputs": [
    {
     "data": {
      "text/plain": [
       "True"
      ]
     },
     "execution_count": 25,
     "metadata": {},
     "output_type": "execute_result"
    }
   ],
   "source": [
    "l1 = [1, 'a', [2, 3]]\n",
    "l2 = [1, 'a', [2, 4]]\n",
    "l1 < l2"
   ]
  },
  {
   "cell_type": "markdown",
   "id": "957276c3-4faa-4f42-92ba-818c75f6e379",
   "metadata": {},
   "source": [
    "# Копіювання списків"
   ]
  },
  {
   "cell_type": "code",
   "execution_count": 1,
   "id": "b400c587-6215-423e-a7c5-1fb002b7f416",
   "metadata": {},
   "outputs": [
    {
     "name": "stdout",
     "output_type": "stream",
     "text": [
      "False\n",
      "2554745516736\n",
      "2554745511872\n"
     ]
    }
   ],
   "source": [
    "l1 = [1, 2, 3]\n",
    "l2 = [1, 2, 3]\n",
    "print(l1 is l2)\n",
    "print(id(l1))\n",
    "print(id(l2))"
   ]
  },
  {
   "cell_type": "code",
   "execution_count": 2,
   "id": "89596074-9485-40a5-af32-b25dce1e9226",
   "metadata": {},
   "outputs": [
    {
     "name": "stdout",
     "output_type": "stream",
     "text": [
      "[4, 2, 3]\n",
      "[1, 2, 3]\n"
     ]
    }
   ],
   "source": [
    "l1[0] = 4\n",
    "print(l1)\n",
    "print(l2)"
   ]
  },
  {
   "cell_type": "code",
   "execution_count": 3,
   "id": "82e6e1ed-d221-45fd-afe0-90e8a7fd99e3",
   "metadata": {},
   "outputs": [
    {
     "name": "stdout",
     "output_type": "stream",
     "text": [
      "True\n",
      "2554745511872\n",
      "2554745511872\n"
     ]
    }
   ],
   "source": [
    "l3 = l2\n",
    "print(l2 is l3)\n",
    "print(id(l2))\n",
    "print(id(l3))"
   ]
  },
  {
   "cell_type": "code",
   "execution_count": 4,
   "id": "39e402db-709a-43d2-abd5-d63cc1251f8b",
   "metadata": {},
   "outputs": [
    {
     "name": "stdout",
     "output_type": "stream",
     "text": [
      "[5, 2, 3]\n",
      "[5, 2, 3]\n"
     ]
    }
   ],
   "source": [
    "l2[0] = 5\n",
    "print(l2)\n",
    "print(l3)"
   ]
  },
  {
   "cell_type": "code",
   "execution_count": 5,
   "id": "7544757b-d429-46a9-946a-903ca756a690",
   "metadata": {},
   "outputs": [
    {
     "name": "stdout",
     "output_type": "stream",
     "text": [
      "[6, 2, 3]\n",
      "[6, 2, 3]\n"
     ]
    }
   ],
   "source": [
    "l3[0] = 6\n",
    "print(l2)\n",
    "print(l3)"
   ]
  },
  {
   "cell_type": "markdown",
   "id": "a7255d7f-37fb-423a-9d15-b06e35c64f39",
   "metadata": {},
   "source": [
    "##### Visualize in pythontutor.com\n",
    "[Click Here](http://pythontutor.com/visualize.html#code=l1%20%3D%20[1,%202,%203]%0Al2%20%3D%20[1,%202,%203]%0Al3%20%3D%20l2%0A%0Al3[0]%20%3D%205&cumulative=false&curInstr=0&heapPrimitives=false&mode=display&origin=opt-frontend.js&py=3&rawInputLstJSON=%5B%5D&textReferences=false)"
   ]
  },
  {
   "cell_type": "code",
   "execution_count": 6,
   "id": "8e83d652-3c95-48e8-a0cd-9487c08103df",
   "metadata": {},
   "outputs": [
    {
     "name": "stdout",
     "output_type": "stream",
     "text": [
      "True\n",
      "[6, 2, 3]\n",
      "[6, 2, 3]\n"
     ]
    }
   ],
   "source": [
    "l3 = l2.copy()\n",
    "print(l2 == l3)\n",
    "l2[0] = 6\n",
    "print(l2)\n",
    "print(l3)"
   ]
  },
  {
   "cell_type": "code",
   "execution_count": 7,
   "id": "5bc0c077-5eef-4878-9425-c8ac4dbdef62",
   "metadata": {},
   "outputs": [],
   "source": [
    "l2 = [[0, 0], [0, 0]]\n",
    "l3 = l2.copy()"
   ]
  },
  {
   "cell_type": "code",
   "execution_count": 8,
   "id": "3880728f-35df-40e9-8fd9-a14a1b29b119",
   "metadata": {},
   "outputs": [
    {
     "name": "stdout",
     "output_type": "stream",
     "text": [
      "[[1, 0], [0, 0]]\n",
      "[[1, 0], [0, 0]]\n"
     ]
    }
   ],
   "source": [
    "l2[0][0] = 1\n",
    "print(l2)\n",
    "print(l3)"
   ]
  },
  {
   "cell_type": "markdown",
   "id": "a83ae2c0-cf17-41e3-9474-14edeeb9a9cc",
   "metadata": {},
   "source": [
    "##### Visualize in pythontutor.com\n",
    "http://pythontutor.com/visualize.html"
   ]
  },
  {
   "cell_type": "code",
   "execution_count": 41,
   "id": "b7307059-9162-4de6-b1b5-faa3e9c0d87f",
   "metadata": {},
   "outputs": [
    {
     "name": "stdout",
     "output_type": "stream",
     "text": [
      "[[1, 0], [0, 0]]\n",
      "[[0, 0], [0, 0]]\n"
     ]
    }
   ],
   "source": [
    "import copy\n",
    "l2 = [[0, 0], [0, 0]]\n",
    "l3 = copy.deepcopy(l2)\n",
    "l2[0][0] = 1\n",
    "print(l2)\n",
    "print(l3)"
   ]
  },
  {
   "cell_type": "code",
   "execution_count": 9,
   "id": "3f9f8bea-7c77-4daa-b2f0-3a0eaafd2972",
   "metadata": {},
   "outputs": [
    {
     "data": {
      "text/plain": [
       "[[0, 0, 0], [0, 0, 0], [0, 0, 0]]"
      ]
     },
     "execution_count": 9,
     "metadata": {},
     "output_type": "execute_result"
    }
   ],
   "source": [
    "lst = [[0]*3]*3\n",
    "lst"
   ]
  },
  {
   "cell_type": "code",
   "execution_count": 10,
   "id": "fab9ac99-b186-4d35-85e1-e8c5bc3aca88",
   "metadata": {},
   "outputs": [
    {
     "data": {
      "text/plain": [
       "[[1, 0, 0], [1, 0, 0], [1, 0, 0]]"
      ]
     },
     "execution_count": 10,
     "metadata": {},
     "output_type": "execute_result"
    }
   ],
   "source": [
    "lst[0][0] = 1\n",
    "lst"
   ]
  },
  {
   "cell_type": "markdown",
   "id": "2fd0d5f5-b781-4739-8661-6322adab0e14",
   "metadata": {},
   "source": [
    "##### Visualize in pythontutor.com\n",
    "http://pythontutor.com/visualize.html"
   ]
  },
  {
   "cell_type": "markdown",
   "id": "892d199e-f7af-4f40-aff7-2bb96155eaca",
   "metadata": {},
   "source": [
    "# Генератор списків (List comprehension)"
   ]
  },
  {
   "cell_type": "code",
   "execution_count": 44,
   "id": "3308772c-aa74-49e8-96b2-214e22113b53",
   "metadata": {},
   "outputs": [
    {
     "data": {
      "text/plain": [
       "[0, 1, 2, 3, 4, 5, 6, 7, 8, 9]"
      ]
     },
     "execution_count": 44,
     "metadata": {},
     "output_type": "execute_result"
    }
   ],
   "source": [
    "lst = [i for i in range(10)]\n",
    "lst"
   ]
  },
  {
   "cell_type": "code",
   "execution_count": 11,
   "id": "f0d76fba-ba00-4702-ab0f-7f52137d9f2f",
   "metadata": {},
   "outputs": [
    {
     "data": {
      "text/plain": [
       "[0, 1, 2, 3, 4, 5, 6, 7, 8, 9]"
      ]
     },
     "execution_count": 11,
     "metadata": {},
     "output_type": "execute_result"
    }
   ],
   "source": [
    "lst = []\n",
    "for i in range(10):\n",
    "    lst.append(i)\n",
    "lst"
   ]
  },
  {
   "cell_type": "code",
   "execution_count": 12,
   "id": "20db1ded-2857-4743-934d-ede58b167e25",
   "metadata": {},
   "outputs": [
    {
     "data": {
      "text/plain": [
       "[0, 1, 4, 9, 16, 25, 36, 49, 64, 81]"
      ]
     },
     "execution_count": 12,
     "metadata": {},
     "output_type": "execute_result"
    }
   ],
   "source": [
    "lst = [i**2 for i in range(10)]\n",
    "lst"
   ]
  },
  {
   "cell_type": "code",
   "execution_count": 13,
   "id": "c3b6f474-a6ef-46ad-9ab4-576cdde74cab",
   "metadata": {},
   "outputs": [
    {
     "data": {
      "text/plain": [
       "[0, 2, 4, 6, 8, 10]"
      ]
     },
     "execution_count": 13,
     "metadata": {},
     "output_type": "execute_result"
    }
   ],
   "source": [
    "# Вивести лише парні числа послідовності від 1 до 10\n",
    "lst = [i for i in range(11) if i%2 == 0 ]\n",
    "lst"
   ]
  },
  {
   "cell_type": "code",
   "execution_count": 14,
   "id": "068fcd44-1f54-4cca-a5b9-92130e2c0fe7",
   "metadata": {},
   "outputs": [
    {
     "name": "stdout",
     "output_type": "stream",
     "text": [
      "30\n"
     ]
    }
   ],
   "source": [
    "# Вивести суму парних чисел послідовності від 1 до 10\n",
    "print(sum([i for i in range(11) if i%2 == 0]))"
   ]
  },
  {
   "cell_type": "code",
   "execution_count": 48,
   "id": "786a957d-4f1f-4115-865e-85ad91de8d40",
   "metadata": {},
   "outputs": [
    {
     "name": "stdout",
     "output_type": "stream",
     "text": [
      "30\n"
     ]
    }
   ],
   "source": [
    "# вивести суму парних чисел послідовності від 1 до 10\n",
    "print(sum(i for i in range(11) if i%2 == 0 ))"
   ]
  },
  {
   "cell_type": "code",
   "execution_count": 15,
   "id": "43912a2d-4b32-4ba1-a809-dcdc04a140aa",
   "metadata": {},
   "outputs": [
    {
     "data": {
      "text/plain": [
       "[4, 5, 6, 8, 10, 12, 12, 15, 18]"
      ]
     },
     "execution_count": 15,
     "metadata": {},
     "output_type": "execute_result"
    }
   ],
   "source": [
    "lst1 = [1, 2, 3]\n",
    "lst2 = [4, 5, 6]\n",
    "[x*y for x in lst1 for y in lst2]"
   ]
  },
  {
   "cell_type": "code",
   "execution_count": 50,
   "id": "b8063599-b13c-4abd-89e2-7cf236b30f01",
   "metadata": {},
   "outputs": [
    {
     "name": "stdout",
     "output_type": "stream",
     "text": [
      "x: 1, y: 4, x*y: 4\n",
      "x: 1, y: 5, x*y: 5\n",
      "x: 1, y: 6, x*y: 6\n",
      "x: 2, y: 4, x*y: 8\n",
      "x: 2, y: 5, x*y: 10\n",
      "x: 2, y: 6, x*y: 12\n",
      "x: 3, y: 4, x*y: 12\n",
      "x: 3, y: 5, x*y: 15\n",
      "x: 3, y: 6, x*y: 18\n"
     ]
    }
   ],
   "source": [
    "for x in [1, 2, 3]:\n",
    "    for y in [4, 5, 6]:\n",
    "        print(f'x: {x}, y: {y}, x*y: {x*y}')"
   ]
  },
  {
   "cell_type": "code",
   "execution_count": 16,
   "id": "186fb518-56c5-44f4-a512-5734012faed1",
   "metadata": {},
   "outputs": [
    {
     "data": {
      "text/plain": [
       "[[0, 0, 0, 0, 0],\n",
       " [0, 0, 0, 0, 0],\n",
       " [0, 0, 0, 0, 0],\n",
       " [0, 0, 0, 0, 0],\n",
       " [0, 0, 0, 0, 0],\n",
       " [0, 0, 0, 0, 0]]"
      ]
     },
     "execution_count": 16,
     "metadata": {},
     "output_type": "execute_result"
    }
   ],
   "source": [
    "[[0 for _ in range(5)] for _ in range(6)]"
   ]
  },
  {
   "cell_type": "code",
   "execution_count": 52,
   "id": "c740a721-43d6-4895-8974-2e8ac3535189",
   "metadata": {},
   "outputs": [
    {
     "name": "stdout",
     "output_type": "stream",
     "text": [
      "Hello my freind\n",
      "Hello\n",
      "my\n",
      "freind\n"
     ]
    }
   ],
   "source": [
    "# Перетворення списку на рядок за допомогою .join\n",
    "lst = ['Hello', 'my', 'freind']\n",
    "print(' '.join(lst))\n",
    "print('\\n'.join(lst))"
   ]
  },
  {
   "cell_type": "code",
   "execution_count": 53,
   "id": "c23f64c3-788b-440c-81b6-fb2fe9fcf4b6",
   "metadata": {},
   "outputs": [
    {
     "ename": "TypeError",
     "evalue": "sequence item 0: expected str instance, int found",
     "output_type": "error",
     "traceback": [
      "\u001b[1;31m---------------------------------------------------------------------------\u001b[0m",
      "\u001b[1;31mTypeError\u001b[0m                                 Traceback (most recent call last)",
      "Cell \u001b[1;32mIn[53], line 3\u001b[0m\n\u001b[0;32m      1\u001b[0m \u001b[38;5;66;03m# Перетворення списку на рядок за допомогою .join не працює з числами\u001b[39;00m\n\u001b[0;32m      2\u001b[0m lst \u001b[38;5;241m=\u001b[39m [\u001b[38;5;241m8\u001b[39m, \u001b[38;5;241m2\u001b[39m, \u001b[38;5;241m88\u001b[39m, \u001b[38;5;241m22\u001b[39m]\n\u001b[1;32m----> 3\u001b[0m \u001b[38;5;28mprint\u001b[39m(\u001b[38;5;124;43m'\u001b[39;49m\u001b[38;5;124;43m, \u001b[39;49m\u001b[38;5;124;43m'\u001b[39;49m\u001b[38;5;241;43m.\u001b[39;49m\u001b[43mjoin\u001b[49m\u001b[43m(\u001b[49m\u001b[43mlst\u001b[49m\u001b[43m)\u001b[49m)\n",
      "\u001b[1;31mTypeError\u001b[0m: sequence item 0: expected str instance, int found"
     ]
    }
   ],
   "source": [
    "# Перетворення списку на рядок за допомогою .join не працює з числами\n",
    "lst = [8, 2, 88, 22]\n",
    "print(', '.join(lst))"
   ]
  },
  {
   "cell_type": "code",
   "execution_count": 54,
   "id": "7cc3b5dd-6bc5-42e5-8feb-17711413327c",
   "metadata": {},
   "outputs": [
    {
     "data": {
      "text/plain": [
       "'[8, 2, 88, 22]'"
      ]
     },
     "execution_count": 54,
     "metadata": {},
     "output_type": "execute_result"
    }
   ],
   "source": [
    "# Перетворення списку чисел на рядок\n",
    "lst = [8, 2, 88, 22]\n",
    "str(lst)"
   ]
  },
  {
   "cell_type": "code",
   "execution_count": 55,
   "id": "5a4fde66-dc76-4068-b796-8c81d33178c9",
   "metadata": {},
   "outputs": [
    {
     "name": "stdout",
     "output_type": "stream",
     "text": [
      "8, 2, 88, 22\n"
     ]
    }
   ],
   "source": [
    "print(str(lst).strip('[]'))"
   ]
  },
  {
   "cell_type": "code",
   "execution_count": 56,
   "id": "5d6a6a25-0753-4672-b12c-4916f349c78f",
   "metadata": {},
   "outputs": [
    {
     "name": "stdout",
     "output_type": "stream",
     "text": [
      "8, 2, 88, 22\n"
     ]
    }
   ],
   "source": [
    "print(str(lst)[1:-1])"
   ]
  },
  {
   "cell_type": "markdown",
   "id": "01fe6a00-33e4-460c-a8d7-92cf55575d5e",
   "metadata": {},
   "source": [
    "**Завдання 1**\n",
    "\n",
    "Утворіть список чисел вигляду k/k+1, 1 <= k <= 10."
   ]
  },
  {
   "cell_type": "code",
   "execution_count": null,
   "id": "532bc62d-bc87-4d3b-b10f-e20aff01d4d5",
   "metadata": {},
   "outputs": [],
   "source": []
  },
  {
   "cell_type": "markdown",
   "id": "646b6f93-a542-4d53-8430-186458bca206",
   "metadata": {},
   "source": [
    "**Завдання 2**\n",
    "\n",
    "Знайдіть суму 1 - 1/2 + 1/4 - 1/8 + 1/16 - 1/32 + 1/64"
   ]
  },
  {
   "cell_type": "code",
   "execution_count": null,
   "id": "7c846055-1ffc-486f-bfb9-5bc40931a2ba",
   "metadata": {},
   "outputs": [],
   "source": []
  },
  {
   "cell_type": "markdown",
   "id": "74cf6cde-3e66-4608-a24d-f08a27919325",
   "metadata": {},
   "source": [
    "**Завдання 3**\n",
    "\n",
    "Згенеруйте список з 9 назв файлів вигляду 'photo1.jpeg', 'photo3.jpeg' і т.д."
   ]
  },
  {
   "cell_type": "code",
   "execution_count": null,
   "id": "a20498f4-4d2d-4d80-9373-5f91aaf32002",
   "metadata": {},
   "outputs": [],
   "source": []
  }
 ],
 "metadata": {
  "kernelspec": {
   "display_name": "Python 3",
   "language": "python",
   "name": "python3"
  },
  "language_info": {
   "codemirror_mode": {
    "name": "ipython",
    "version": 3
   },
   "file_extension": ".py",
   "mimetype": "text/x-python",
   "name": "python",
   "nbconvert_exporter": "python",
   "pygments_lexer": "ipython3",
   "version": "3.12.4"
  }
 },
 "nbformat": 4,
 "nbformat_minor": 5
}
